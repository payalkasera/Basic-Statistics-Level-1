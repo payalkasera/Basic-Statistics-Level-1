{
 "cells": [
  {
   "cell_type": "markdown",
   "id": "da326614",
   "metadata": {},
   "source": [
    "# Q8) Calculate Expected Value for the problem below a) The weights (X) of patients at a clinic (in pounds),\n",
    "are 108, 110, 123, 134, 135, 145, 167, 187, 199\n",
    "Assume one of the patients is chosen at random. What is the Expected Value of the Weight of that patient?"
   ]
  },
  {
   "cell_type": "code",
   "execution_count": 12,
   "id": "24b79dfc",
   "metadata": {
    "ExecuteTime": {
     "end_time": "2021-09-23T04:15:30.427455Z",
     "start_time": "2021-09-23T04:15:30.420546Z"
    }
   },
   "outputs": [],
   "source": [
    "\n",
    "import statistics"
   ]
  },
  {
   "cell_type": "code",
   "execution_count": 5,
   "id": "6be2960b",
   "metadata": {
    "ExecuteTime": {
     "end_time": "2021-09-23T04:12:30.029260Z",
     "start_time": "2021-09-23T04:12:30.014309Z"
    }
   },
   "outputs": [],
   "source": [
    "weight = [108, 110, 123, 134, 135, 145, 167, 187, 199]"
   ]
  },
  {
   "cell_type": "code",
   "execution_count": 6,
   "id": "fcaf3f46",
   "metadata": {
    "ExecuteTime": {
     "end_time": "2021-09-23T04:12:32.006613Z",
     "start_time": "2021-09-23T04:12:31.985149Z"
    }
   },
   "outputs": [
    {
     "data": {
      "text/plain": [
       "[108, 110, 123, 134, 135, 145, 167, 187, 199]"
      ]
     },
     "execution_count": 6,
     "metadata": {},
     "output_type": "execute_result"
    }
   ],
   "source": [
    "weight"
   ]
  },
  {
   "cell_type": "code",
   "execution_count": 9,
   "id": "8d42947d",
   "metadata": {
    "ExecuteTime": {
     "end_time": "2021-09-23T04:14:45.128841Z",
     "start_time": "2021-09-23T04:14:45.111425Z"
    }
   },
   "outputs": [],
   "source": [
    "x = statistics.mean(weight)"
   ]
  },
  {
   "cell_type": "code",
   "execution_count": 10,
   "id": "806a8002",
   "metadata": {
    "ExecuteTime": {
     "end_time": "2021-09-23T04:15:14.467400Z",
     "start_time": "2021-09-23T04:15:14.447139Z"
    }
   },
   "outputs": [
    {
     "name": "stdout",
     "output_type": "stream",
     "text": [
      "Average weight is : 145.33333333333334\n"
     ]
    }
   ],
   "source": [
    "print(\"Average weight is :\", x)"
   ]
  },
  {
   "cell_type": "code",
   "execution_count": null,
   "id": "11bd6170",
   "metadata": {},
   "outputs": [],
   "source": []
  },
  {
   "cell_type": "code",
   "execution_count": null,
   "id": "9b912d04",
   "metadata": {},
   "outputs": [],
   "source": []
  },
  {
   "cell_type": "code",
   "execution_count": null,
   "id": "073a0b1e",
   "metadata": {},
   "outputs": [],
   "source": []
  },
  {
   "cell_type": "code",
   "execution_count": null,
   "id": "230ff476",
   "metadata": {},
   "outputs": [],
   "source": []
  },
  {
   "cell_type": "code",
   "execution_count": null,
   "id": "d1d6e0ab",
   "metadata": {},
   "outputs": [],
   "source": []
  },
  {
   "cell_type": "code",
   "execution_count": null,
   "id": "f3b1144e",
   "metadata": {},
   "outputs": [],
   "source": []
  },
  {
   "cell_type": "code",
   "execution_count": null,
   "id": "fce29a46",
   "metadata": {},
   "outputs": [],
   "source": []
  },
  {
   "cell_type": "code",
   "execution_count": null,
   "id": "c993b1b3",
   "metadata": {},
   "outputs": [],
   "source": []
  },
  {
   "cell_type": "code",
   "execution_count": null,
   "id": "61cc154e",
   "metadata": {},
   "outputs": [],
   "source": []
  },
  {
   "cell_type": "code",
   "execution_count": null,
   "id": "0491c5fa",
   "metadata": {},
   "outputs": [],
   "source": []
  }
 ],
 "metadata": {
  "kernelspec": {
   "display_name": "Python 3",
   "language": "python",
   "name": "python3"
  },
  "language_info": {
   "codemirror_mode": {
    "name": "ipython",
    "version": 3
   },
   "file_extension": ".py",
   "mimetype": "text/x-python",
   "name": "python",
   "nbconvert_exporter": "python",
   "pygments_lexer": "ipython3",
   "version": "3.8.8"
  }
 },
 "nbformat": 4,
 "nbformat_minor": 5
}
